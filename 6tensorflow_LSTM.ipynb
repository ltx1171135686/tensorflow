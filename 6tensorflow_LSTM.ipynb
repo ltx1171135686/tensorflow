{
 "cells": [
  {
   "cell_type": "code",
   "execution_count": 1,
   "metadata": {
    "collapsed": true
   },
   "outputs": [],
   "source": [
    "import tensorflow as tf\n",
    "from tensorflow.examples.tutorials.mnist import input_data\n",
    "from tensorflow.contrib import rnn"
   ]
  },
  {
   "cell_type": "code",
   "execution_count": 2,
   "metadata": {},
   "outputs": [
    {
     "name": "stdout",
     "output_type": "stream",
     "text": [
      "WARNING:tensorflow:From <ipython-input-2-523d74ae5e94>:1: read_data_sets (from tensorflow.contrib.learn.python.learn.datasets.mnist) is deprecated and will be removed in a future version.\n",
      "Instructions for updating:\n",
      "Please use alternatives such as official/mnist/dataset.py from tensorflow/models.\n",
      "WARNING:tensorflow:From C:\\Users\\user\\Anaconda3\\envs\\tensorflow-gpu\\lib\\site-packages\\tensorflow\\contrib\\learn\\python\\learn\\datasets\\mnist.py:260: maybe_download (from tensorflow.contrib.learn.python.learn.datasets.base) is deprecated and will be removed in a future version.\n",
      "Instructions for updating:\n",
      "Please write your own downloading logic.\n",
      "WARNING:tensorflow:From C:\\Users\\user\\Anaconda3\\envs\\tensorflow-gpu\\lib\\site-packages\\tensorflow\\contrib\\learn\\python\\learn\\datasets\\mnist.py:262: extract_images (from tensorflow.contrib.learn.python.learn.datasets.mnist) is deprecated and will be removed in a future version.\n",
      "Instructions for updating:\n",
      "Please use tf.data to implement this functionality.\n",
      "Extracting MNIST.data/train-images-idx3-ubyte.gz\n",
      "WARNING:tensorflow:From C:\\Users\\user\\Anaconda3\\envs\\tensorflow-gpu\\lib\\site-packages\\tensorflow\\contrib\\learn\\python\\learn\\datasets\\mnist.py:267: extract_labels (from tensorflow.contrib.learn.python.learn.datasets.mnist) is deprecated and will be removed in a future version.\n",
      "Instructions for updating:\n",
      "Please use tf.data to implement this functionality.\n",
      "Extracting MNIST.data/train-labels-idx1-ubyte.gz\n",
      "WARNING:tensorflow:From C:\\Users\\user\\Anaconda3\\envs\\tensorflow-gpu\\lib\\site-packages\\tensorflow\\contrib\\learn\\python\\learn\\datasets\\mnist.py:110: dense_to_one_hot (from tensorflow.contrib.learn.python.learn.datasets.mnist) is deprecated and will be removed in a future version.\n",
      "Instructions for updating:\n",
      "Please use tf.one_hot on tensors.\n",
      "Extracting MNIST.data/t10k-images-idx3-ubyte.gz\n",
      "Extracting MNIST.data/t10k-labels-idx1-ubyte.gz\n",
      "WARNING:tensorflow:From C:\\Users\\user\\Anaconda3\\envs\\tensorflow-gpu\\lib\\site-packages\\tensorflow\\contrib\\learn\\python\\learn\\datasets\\mnist.py:290: DataSet.__init__ (from tensorflow.contrib.learn.python.learn.datasets.mnist) is deprecated and will be removed in a future version.\n",
      "Instructions for updating:\n",
      "Please use alternatives such as official/mnist/dataset.py from tensorflow/models.\n"
     ]
    }
   ],
   "source": [
    "mnist = input_data.read_data_sets(\"MNIST.data/\", one_hot=True)\n",
    "\n",
    "#图片尺寸28*28\n",
    "n_input = 28            #输入一行，一行有28个数据\n",
    "max_time = 28           #一共28行\n",
    "\n",
    "lstm_size = 100         #隐层神经单元个数。\n",
    "\n",
    "n_classes = 10          #10个分类\n",
    "batch_size = 50         #每批次50个样本\n",
    "n_batch = mnist.train.num_examples // batch_size\n"
   ]
  },
  {
   "cell_type": "code",
   "execution_count": 3,
   "metadata": {},
   "outputs": [
    {
     "name": "stdout",
     "output_type": "stream",
     "text": [
      "WARNING:tensorflow:From <ipython-input-3-9980fdc21cfd>:27: softmax_cross_entropy_with_logits (from tensorflow.python.ops.nn_ops) is deprecated and will be removed in a future version.\n",
      "Instructions for updating:\n",
      "\n",
      "Future major versions of TensorFlow will allow gradients to flow\n",
      "into the labels input on backprop by default.\n",
      "\n",
      "See @{tf.nn.softmax_cross_entropy_with_logits_v2}.\n",
      "\n",
      "Iter0, TESTING Accuracy0.7819\n",
      "Iter1, TESTING Accuracy0.871\n",
      "Iter2, TESTING Accuracy0.894\n",
      "Iter3, TESTING Accuracy0.9014\n",
      "Iter4, TESTING Accuracy0.914\n",
      "Iter5, TESTING Accuracy0.9276\n"
     ]
    }
   ],
   "source": [
    "x = tf.placeholder(tf.float32, [None,784])\n",
    "y = tf.placeholder(tf.float32, [None,10])\n",
    "\n",
    "#初始化权值\n",
    "weights = tf.Variable(tf.truncated_normal([lstm_size,n_classes], stddev=0.1))\n",
    "\n",
    "#初始化偏置值\n",
    "biases = tf.Variable(tf.constant(0.1,shape=[n_classes]))\n",
    "\n",
    "#定义RNN网络\n",
    "def RNN(X, weights,biases):\n",
    "    #将原本压缩成一行的28*28还原\n",
    "    inputs = tf.reshape(X, [-1,max_time,n_input])\n",
    "    \n",
    "    #定义LSTM基本CELL\n",
    "    lstm_cell = rnn.BasicLSTMCell(lstm_size)\n",
    "    \n",
    "    #final_state[0] 是cell state\n",
    "    #final_state[1] 是hidden state\n",
    "    #返回的final_state [0], [1]\n",
    "    outputs, final_state = tf.nn.dynamic_rnn(lstm_cell, inputs, dtype=tf.float32)  #这是一个计算。传进去两个参数，返回两个参数。\n",
    "    \n",
    "    results = tf.nn.softmax(tf.matmul(final_state[1],weights)+biases)\n",
    "    return results\n",
    "\n",
    "prediction = RNN(x, weights, biases)\n",
    "cross_entropy = tf.reduce_mean(tf.nn.softmax_cross_entropy_with_logits(logits=prediction,labels=y))\n",
    "\n",
    "#使用AdamOptimizer优化器\n",
    "train_step = tf.train.AdamOptimizer(1e-4).minimize(cross_entropy)\n",
    "\n",
    "correct_predition = tf.equal(tf.argmax(y,1), tf.argmax(prediction,1))\n",
    "accuracy = tf.reduce_mean(tf.cast(correct_predition, tf.float32))\n",
    "\n",
    "init = tf.global_variables_initializer()\n",
    "\n",
    "with tf.Session() as sess:\n",
    "    sess.run(init)\n",
    "    for epoch in range(6):\n",
    "        for batch in range(n_batch):\n",
    "            batch_xs,batch_ys = mnist.train.next_batch(batch_size)\n",
    "            sess.run(train_step, feed_dict={x:batch_xs, y:batch_ys})\n",
    "        acc = sess.run(accuracy, feed_dict={x:mnist.test.images, y:mnist.test.labels})\n",
    "        print(\"Iter\" + str(epoch) + \", TESTING Accuracy\" + str(acc))"
   ]
  },
  {
   "cell_type": "markdown",
   "metadata": {},
   "source": [
    "笔记：\n",
    "    ①from tensorflow.contrib import rnn\n",
    "    \n",
    "    lstm_cell = rnn.BasicLSTMCell(lstm_size)\n",
    "    \n",
    "    定义lstm_cell的函数。原来的已弃用\n",
    "    \n",
    "    ②三个计算交叉熵的函数。\n",
    "    tf.nn.softmax_cross_entropy_with_logits             logits=没有softmax的prediction.逐渐弃用\n",
    "    tf.nn.sparse_softmax_cross_entropy_with_logits      logits=没有softmax的prediction。计算更快\n",
    "    tf.nn.softmax_cross_entropy_with_logits_v2          logits=softmax的prediction"
   ]
  },
  {
   "cell_type": "code",
   "execution_count": null,
   "metadata": {
    "collapsed": true
   },
   "outputs": [],
   "source": []
  }
 ],
 "metadata": {
  "kernelspec": {
   "display_name": "Python 3",
   "language": "python",
   "name": "python3"
  },
  "language_info": {
   "codemirror_mode": {
    "name": "ipython",
    "version": 3
   },
   "file_extension": ".py",
   "mimetype": "text/x-python",
   "name": "python",
   "nbconvert_exporter": "python",
   "pygments_lexer": "ipython3",
   "version": "3.6.1"
  }
 },
 "nbformat": 4,
 "nbformat_minor": 2
}
